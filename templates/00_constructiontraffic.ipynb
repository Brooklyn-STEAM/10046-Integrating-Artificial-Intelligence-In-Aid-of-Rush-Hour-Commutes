{
 "cells": [
  {
   "cell_type": "code",
   "execution_count": 3,
   "metadata": {},
   "outputs": [],
   "source": [
    "import os\n",
    "import pandas as pd\n",
    "import numpy as np\n",
    "import matplotlib.pyplot as plt\n",
    "import csv\n",
    "\n",
    "\n",
    "import tensorflow as tf\n",
    "from tensorflow.keras.preprocessing.image import ImageDataGenerator\n",
    "from tensorflow.keras.applications.efficientnet import EfficientNetB3\n",
    "from tensorflow.keras import layers\n",
    "from tensorflow.keras.optimizers import Adamax\n",
    "\n",
    "from tensorflow.keras.callbacks import EarlyStopping, ReduceLROnPlateau"
   ]
  },
  {
   "cell_type": "code",
   "execution_count": 4,
   "metadata": {},
   "outputs": [
    {
     "name": "stdout",
     "output_type": "stream",
     "text": [
      "                                               the_geom  SEGMENTID  \\\n",
      "0     MULTILINESTRING ((-74.12448960061522 40.631134...       9813   \n",
      "1     MULTILINESTRING ((-74.19879341875411 40.522175...       1098   \n",
      "2     MULTILINESTRING ((-74.19879341875411 40.522175...       1098   \n",
      "3     MULTILINESTRING ((-73.95032596692067 40.657837...      28743   \n",
      "4     MULTILINESTRING ((-73.95032596692067 40.657837...      28743   \n",
      "...                                                 ...        ...   \n",
      "1421  MULTILINESTRING ((-73.77137893497239 40.699014...      61101   \n",
      "1422  MULTILINESTRING ((-73.77215742854926 40.711487...      61148   \n",
      "1423  MULTILINESTRING ((-73.77215742854926 40.711487...      61148   \n",
      "1424  MULTILINESTRING ((-73.76969922559675 40.697065...      61191   \n",
      "1425  MULTILINESTRING ((-73.76969922559675 40.697065...      61191   \n",
      "\n",
      "                     OFT      ONSTREETNAME   FROMSTREETNAME     TOSTREETNAME  \\\n",
      "0     524570523900544658    CORNELL AVENUE       CLOVE ROAD    RAYMOND PLACE   \n",
      "1     570299525908547300  SINGLETON STREET         DEAD END   SEGUINE AVENUE   \n",
      "2     570299525908547300  SINGLETON STREET         DEAD END   SEGUINE AVENUE   \n",
      "3     348230364830367030  HAWTHORNE STREET  NEW YORK AVENUE  NOSTRAND AVENUE   \n",
      "4     348230364830367030  HAWTHORNE STREET  NEW YORK AVENUE  NOSTRAND AVENUE   \n",
      "...                  ...               ...              ...              ...   \n",
      "1421  442940446350449520    DUNKIRK STREET    GALWAY AVENUE   HILBURN AVENUE   \n",
      "1422  418290425220425240         91 AVENUE        187 PLACE       188 STREET   \n",
      "1423  418290425220425240         91 AVENUE        187 PLACE       188 STREET   \n",
      "1424  442940451650456350    DUNKIRK STREET    JORDAN AVENUE   MURDOCK AVENUE   \n",
      "1425  442940451650456350    DUNKIRK STREET    JORDAN AVENUE   MURDOCK AVENUE   \n",
      "\n",
      "     BOROUGH_CODE         WORK_START_DATE           WORK_END_DATE  \\\n",
      "0               S  02/26/2025 12:00:00 AM  03/28/2025 12:00:00 AM   \n",
      "1               S  12/26/2024 12:00:00 AM  03/26/2025 12:00:00 AM   \n",
      "2               S  12/26/2024 12:00:00 AM  03/25/2025 12:00:00 AM   \n",
      "3               B  02/24/2025 12:00:00 AM  03/22/2025 12:00:00 AM   \n",
      "4               B  02/24/2025 12:00:00 AM  03/22/2025 12:00:00 AM   \n",
      "...           ...                     ...                     ...   \n",
      "1421            Q  03/10/2025 12:00:00 AM  05/01/2025 12:00:00 AM   \n",
      "1422            Q  03/10/2025 12:00:00 AM  05/01/2025 12:00:00 AM   \n",
      "1423            Q  03/10/2025 12:00:00 AM  05/01/2025 12:00:00 AM   \n",
      "1424            Q  03/10/2025 12:00:00 AM  05/01/2025 12:00:00 AM   \n",
      "1425            Q  03/10/2025 12:00:00 AM  05/01/2025 12:00:00 AM   \n",
      "\n",
      "                                               UNIQUEID  \\\n",
      "0     6820e945819f7e89ecf91829a95a6a3a8a0844b1621356...   \n",
      "1     c4a5d52564922dfb3cd4e3c1feeb585df232e1c9feaa6e...   \n",
      "2     f83d0277026f1d2b8c0617bc658e849360fc3f3c95168f...   \n",
      "3     8f45e12feccc75367e822dedc29d6d74c516ea0d2b2c37...   \n",
      "4     512cb0dc3683a39a55fb776fdb9786543acedaf1c0af80...   \n",
      "...                                                 ...   \n",
      "1421  d8bee4fa840e2d9e260e1d9df9d0f20f12b1aa3c039ab6...   \n",
      "1422  4ed5b29f15c55773a4bca9056242e9e0f985bf64e65aac...   \n",
      "1423  ca7bc5ecfcfdb0c987c0210ad38a4c6dbfb9d521fe18c9...   \n",
      "1424  5e0dd125987aebde737382aa1ee0266d813a363fbaf8bf...   \n",
      "1425  a6ab79f067e08f87e0c9d157e8953c8bafc74d91e3b723...   \n",
      "\n",
      "                                  PURPOSE  \n",
      "0                              REPAIR GAS  \n",
      "1                   INSTALLATION OF POLES  \n",
      "2                   INSTALLATION OF POLES  \n",
      "3     OCCUPANCY OF SIDEWALK AS STIPULATED  \n",
      "4      OCCUPANCY OF ROADWAY AS STIPULATED  \n",
      "...                                   ...  \n",
      "1421                 DOT IN-HOUSE MILLING  \n",
      "1422                  DOT IN-HOUSE PAVING  \n",
      "1423                 DOT IN-HOUSE MILLING  \n",
      "1424                 DOT IN-HOUSE MILLING  \n",
      "1425                  DOT IN-HOUSE PAVING  \n",
      "\n",
      "[1426 rows x 11 columns]\n"
     ]
    }
   ],
   "source": [
    "construction_df = pd.read_csv('../Street_Closures.csv')\n",
    "print(construction_df)\n"
   ]
  },
  {
   "cell_type": "code",
   "execution_count": 5,
   "metadata": {},
   "outputs": [
    {
     "data": {
      "text/html": [
       "<div>\n",
       "<style scoped>\n",
       "    .dataframe tbody tr th:only-of-type {\n",
       "        vertical-align: middle;\n",
       "    }\n",
       "\n",
       "    .dataframe tbody tr th {\n",
       "        vertical-align: top;\n",
       "    }\n",
       "\n",
       "    .dataframe thead th {\n",
       "        text-align: right;\n",
       "    }\n",
       "</style>\n",
       "<table border=\"1\" class=\"dataframe\">\n",
       "  <thead>\n",
       "    <tr style=\"text-align: right;\">\n",
       "      <th></th>\n",
       "      <th>the_geom</th>\n",
       "      <th>SEGMENTID</th>\n",
       "      <th>OFT</th>\n",
       "      <th>ONSTREETNAME</th>\n",
       "      <th>FROMSTREETNAME</th>\n",
       "      <th>TOSTREETNAME</th>\n",
       "      <th>BOROUGH_CODE</th>\n",
       "      <th>WORK_START_DATE</th>\n",
       "      <th>WORK_END_DATE</th>\n",
       "      <th>UNIQUEID</th>\n",
       "      <th>PURPOSE</th>\n",
       "    </tr>\n",
       "  </thead>\n",
       "  <tbody>\n",
       "    <tr>\n",
       "      <th>0</th>\n",
       "      <td>MULTILINESTRING ((-74.12448960061522 40.631134...</td>\n",
       "      <td>9813</td>\n",
       "      <td>524570523900544658</td>\n",
       "      <td>CORNELL AVENUE</td>\n",
       "      <td>CLOVE ROAD</td>\n",
       "      <td>RAYMOND PLACE</td>\n",
       "      <td>S</td>\n",
       "      <td>02/26/2025 12:00:00 AM</td>\n",
       "      <td>03/28/2025 12:00:00 AM</td>\n",
       "      <td>6820e945819f7e89ecf91829a95a6a3a8a0844b1621356...</td>\n",
       "      <td>REPAIR GAS</td>\n",
       "    </tr>\n",
       "    <tr>\n",
       "      <th>1</th>\n",
       "      <td>MULTILINESTRING ((-74.19879341875411 40.522175...</td>\n",
       "      <td>1098</td>\n",
       "      <td>570299525908547300</td>\n",
       "      <td>SINGLETON STREET</td>\n",
       "      <td>DEAD END</td>\n",
       "      <td>SEGUINE AVENUE</td>\n",
       "      <td>S</td>\n",
       "      <td>12/26/2024 12:00:00 AM</td>\n",
       "      <td>03/26/2025 12:00:00 AM</td>\n",
       "      <td>c4a5d52564922dfb3cd4e3c1feeb585df232e1c9feaa6e...</td>\n",
       "      <td>INSTALLATION OF POLES</td>\n",
       "    </tr>\n",
       "    <tr>\n",
       "      <th>2</th>\n",
       "      <td>MULTILINESTRING ((-74.19879341875411 40.522175...</td>\n",
       "      <td>1098</td>\n",
       "      <td>570299525908547300</td>\n",
       "      <td>SINGLETON STREET</td>\n",
       "      <td>DEAD END</td>\n",
       "      <td>SEGUINE AVENUE</td>\n",
       "      <td>S</td>\n",
       "      <td>12/26/2024 12:00:00 AM</td>\n",
       "      <td>03/25/2025 12:00:00 AM</td>\n",
       "      <td>f83d0277026f1d2b8c0617bc658e849360fc3f3c95168f...</td>\n",
       "      <td>INSTALLATION OF POLES</td>\n",
       "    </tr>\n",
       "    <tr>\n",
       "      <th>3</th>\n",
       "      <td>MULTILINESTRING ((-73.95032596692067 40.657837...</td>\n",
       "      <td>28743</td>\n",
       "      <td>348230364830367030</td>\n",
       "      <td>HAWTHORNE STREET</td>\n",
       "      <td>NEW YORK AVENUE</td>\n",
       "      <td>NOSTRAND AVENUE</td>\n",
       "      <td>B</td>\n",
       "      <td>02/24/2025 12:00:00 AM</td>\n",
       "      <td>03/22/2025 12:00:00 AM</td>\n",
       "      <td>8f45e12feccc75367e822dedc29d6d74c516ea0d2b2c37...</td>\n",
       "      <td>OCCUPANCY OF SIDEWALK AS STIPULATED</td>\n",
       "    </tr>\n",
       "    <tr>\n",
       "      <th>4</th>\n",
       "      <td>MULTILINESTRING ((-73.95032596692067 40.657837...</td>\n",
       "      <td>28743</td>\n",
       "      <td>348230364830367030</td>\n",
       "      <td>HAWTHORNE STREET</td>\n",
       "      <td>NEW YORK AVENUE</td>\n",
       "      <td>NOSTRAND AVENUE</td>\n",
       "      <td>B</td>\n",
       "      <td>02/24/2025 12:00:00 AM</td>\n",
       "      <td>03/22/2025 12:00:00 AM</td>\n",
       "      <td>512cb0dc3683a39a55fb776fdb9786543acedaf1c0af80...</td>\n",
       "      <td>OCCUPANCY OF ROADWAY AS STIPULATED</td>\n",
       "    </tr>\n",
       "  </tbody>\n",
       "</table>\n",
       "</div>"
      ],
      "text/plain": [
       "                                            the_geom  SEGMENTID  \\\n",
       "0  MULTILINESTRING ((-74.12448960061522 40.631134...       9813   \n",
       "1  MULTILINESTRING ((-74.19879341875411 40.522175...       1098   \n",
       "2  MULTILINESTRING ((-74.19879341875411 40.522175...       1098   \n",
       "3  MULTILINESTRING ((-73.95032596692067 40.657837...      28743   \n",
       "4  MULTILINESTRING ((-73.95032596692067 40.657837...      28743   \n",
       "\n",
       "                  OFT      ONSTREETNAME   FROMSTREETNAME     TOSTREETNAME  \\\n",
       "0  524570523900544658    CORNELL AVENUE       CLOVE ROAD    RAYMOND PLACE   \n",
       "1  570299525908547300  SINGLETON STREET         DEAD END   SEGUINE AVENUE   \n",
       "2  570299525908547300  SINGLETON STREET         DEAD END   SEGUINE AVENUE   \n",
       "3  348230364830367030  HAWTHORNE STREET  NEW YORK AVENUE  NOSTRAND AVENUE   \n",
       "4  348230364830367030  HAWTHORNE STREET  NEW YORK AVENUE  NOSTRAND AVENUE   \n",
       "\n",
       "  BOROUGH_CODE         WORK_START_DATE           WORK_END_DATE  \\\n",
       "0            S  02/26/2025 12:00:00 AM  03/28/2025 12:00:00 AM   \n",
       "1            S  12/26/2024 12:00:00 AM  03/26/2025 12:00:00 AM   \n",
       "2            S  12/26/2024 12:00:00 AM  03/25/2025 12:00:00 AM   \n",
       "3            B  02/24/2025 12:00:00 AM  03/22/2025 12:00:00 AM   \n",
       "4            B  02/24/2025 12:00:00 AM  03/22/2025 12:00:00 AM   \n",
       "\n",
       "                                            UNIQUEID  \\\n",
       "0  6820e945819f7e89ecf91829a95a6a3a8a0844b1621356...   \n",
       "1  c4a5d52564922dfb3cd4e3c1feeb585df232e1c9feaa6e...   \n",
       "2  f83d0277026f1d2b8c0617bc658e849360fc3f3c95168f...   \n",
       "3  8f45e12feccc75367e822dedc29d6d74c516ea0d2b2c37...   \n",
       "4  512cb0dc3683a39a55fb776fdb9786543acedaf1c0af80...   \n",
       "\n",
       "                               PURPOSE  \n",
       "0                           REPAIR GAS  \n",
       "1                INSTALLATION OF POLES  \n",
       "2                INSTALLATION OF POLES  \n",
       "3  OCCUPANCY OF SIDEWALK AS STIPULATED  \n",
       "4   OCCUPANCY OF ROADWAY AS STIPULATED  "
      ]
     },
     "execution_count": 5,
     "metadata": {},
     "output_type": "execute_result"
    }
   ],
   "source": [
    "\n",
    "construction_df.head()"
   ]
  },
  {
   "cell_type": "code",
   "execution_count": 7,
   "metadata": {},
   "outputs": [
    {
     "data": {
      "text/html": [
       "<div>\n",
       "<style scoped>\n",
       "    .dataframe tbody tr th:only-of-type {\n",
       "        vertical-align: middle;\n",
       "    }\n",
       "\n",
       "    .dataframe tbody tr th {\n",
       "        vertical-align: top;\n",
       "    }\n",
       "\n",
       "    .dataframe thead th {\n",
       "        text-align: right;\n",
       "    }\n",
       "</style>\n",
       "<table border=\"1\" class=\"dataframe\">\n",
       "  <thead>\n",
       "    <tr style=\"text-align: right;\">\n",
       "      <th></th>\n",
       "      <th>the_geom</th>\n",
       "      <th>SEGMENTID</th>\n",
       "      <th>OFT</th>\n",
       "      <th>ONSTREETNAME</th>\n",
       "      <th>FROMSTREETNAME</th>\n",
       "      <th>TOSTREETNAME</th>\n",
       "      <th>BOROUGH_CODE</th>\n",
       "      <th>WORK_START_DATE</th>\n",
       "      <th>WORK_END_DATE</th>\n",
       "      <th>UNIQUEID</th>\n",
       "      <th>PURPOSE</th>\n",
       "    </tr>\n",
       "  </thead>\n",
       "  <tbody>\n",
       "    <tr>\n",
       "      <th>1421</th>\n",
       "      <td>MULTILINESTRING ((-73.77137893497239 40.699014...</td>\n",
       "      <td>61101</td>\n",
       "      <td>442940446350449520</td>\n",
       "      <td>DUNKIRK STREET</td>\n",
       "      <td>GALWAY AVENUE</td>\n",
       "      <td>HILBURN AVENUE</td>\n",
       "      <td>Q</td>\n",
       "      <td>03/10/2025 12:00:00 AM</td>\n",
       "      <td>05/01/2025 12:00:00 AM</td>\n",
       "      <td>d8bee4fa840e2d9e260e1d9df9d0f20f12b1aa3c039ab6...</td>\n",
       "      <td>DOT IN-HOUSE MILLING</td>\n",
       "    </tr>\n",
       "    <tr>\n",
       "      <th>1422</th>\n",
       "      <td>MULTILINESTRING ((-73.77215742854926 40.711487...</td>\n",
       "      <td>61148</td>\n",
       "      <td>418290425220425240</td>\n",
       "      <td>91 AVENUE</td>\n",
       "      <td>187 PLACE</td>\n",
       "      <td>188 STREET</td>\n",
       "      <td>Q</td>\n",
       "      <td>03/10/2025 12:00:00 AM</td>\n",
       "      <td>05/01/2025 12:00:00 AM</td>\n",
       "      <td>4ed5b29f15c55773a4bca9056242e9e0f985bf64e65aac...</td>\n",
       "      <td>DOT IN-HOUSE PAVING</td>\n",
       "    </tr>\n",
       "    <tr>\n",
       "      <th>1423</th>\n",
       "      <td>MULTILINESTRING ((-73.77215742854926 40.711487...</td>\n",
       "      <td>61148</td>\n",
       "      <td>418290425220425240</td>\n",
       "      <td>91 AVENUE</td>\n",
       "      <td>187 PLACE</td>\n",
       "      <td>188 STREET</td>\n",
       "      <td>Q</td>\n",
       "      <td>03/10/2025 12:00:00 AM</td>\n",
       "      <td>05/01/2025 12:00:00 AM</td>\n",
       "      <td>ca7bc5ecfcfdb0c987c0210ad38a4c6dbfb9d521fe18c9...</td>\n",
       "      <td>DOT IN-HOUSE MILLING</td>\n",
       "    </tr>\n",
       "    <tr>\n",
       "      <th>1424</th>\n",
       "      <td>MULTILINESTRING ((-73.76969922559675 40.697065...</td>\n",
       "      <td>61191</td>\n",
       "      <td>442940451650456350</td>\n",
       "      <td>DUNKIRK STREET</td>\n",
       "      <td>JORDAN AVENUE</td>\n",
       "      <td>MURDOCK AVENUE</td>\n",
       "      <td>Q</td>\n",
       "      <td>03/10/2025 12:00:00 AM</td>\n",
       "      <td>05/01/2025 12:00:00 AM</td>\n",
       "      <td>5e0dd125987aebde737382aa1ee0266d813a363fbaf8bf...</td>\n",
       "      <td>DOT IN-HOUSE MILLING</td>\n",
       "    </tr>\n",
       "    <tr>\n",
       "      <th>1425</th>\n",
       "      <td>MULTILINESTRING ((-73.76969922559675 40.697065...</td>\n",
       "      <td>61191</td>\n",
       "      <td>442940451650456350</td>\n",
       "      <td>DUNKIRK STREET</td>\n",
       "      <td>JORDAN AVENUE</td>\n",
       "      <td>MURDOCK AVENUE</td>\n",
       "      <td>Q</td>\n",
       "      <td>03/10/2025 12:00:00 AM</td>\n",
       "      <td>05/01/2025 12:00:00 AM</td>\n",
       "      <td>a6ab79f067e08f87e0c9d157e8953c8bafc74d91e3b723...</td>\n",
       "      <td>DOT IN-HOUSE PAVING</td>\n",
       "    </tr>\n",
       "  </tbody>\n",
       "</table>\n",
       "</div>"
      ],
      "text/plain": [
       "                                               the_geom  SEGMENTID  \\\n",
       "1421  MULTILINESTRING ((-73.77137893497239 40.699014...      61101   \n",
       "1422  MULTILINESTRING ((-73.77215742854926 40.711487...      61148   \n",
       "1423  MULTILINESTRING ((-73.77215742854926 40.711487...      61148   \n",
       "1424  MULTILINESTRING ((-73.76969922559675 40.697065...      61191   \n",
       "1425  MULTILINESTRING ((-73.76969922559675 40.697065...      61191   \n",
       "\n",
       "                     OFT    ONSTREETNAME FROMSTREETNAME    TOSTREETNAME  \\\n",
       "1421  442940446350449520  DUNKIRK STREET  GALWAY AVENUE  HILBURN AVENUE   \n",
       "1422  418290425220425240       91 AVENUE      187 PLACE      188 STREET   \n",
       "1423  418290425220425240       91 AVENUE      187 PLACE      188 STREET   \n",
       "1424  442940451650456350  DUNKIRK STREET  JORDAN AVENUE  MURDOCK AVENUE   \n",
       "1425  442940451650456350  DUNKIRK STREET  JORDAN AVENUE  MURDOCK AVENUE   \n",
       "\n",
       "     BOROUGH_CODE         WORK_START_DATE           WORK_END_DATE  \\\n",
       "1421            Q  03/10/2025 12:00:00 AM  05/01/2025 12:00:00 AM   \n",
       "1422            Q  03/10/2025 12:00:00 AM  05/01/2025 12:00:00 AM   \n",
       "1423            Q  03/10/2025 12:00:00 AM  05/01/2025 12:00:00 AM   \n",
       "1424            Q  03/10/2025 12:00:00 AM  05/01/2025 12:00:00 AM   \n",
       "1425            Q  03/10/2025 12:00:00 AM  05/01/2025 12:00:00 AM   \n",
       "\n",
       "                                               UNIQUEID               PURPOSE  \n",
       "1421  d8bee4fa840e2d9e260e1d9df9d0f20f12b1aa3c039ab6...  DOT IN-HOUSE MILLING  \n",
       "1422  4ed5b29f15c55773a4bca9056242e9e0f985bf64e65aac...   DOT IN-HOUSE PAVING  \n",
       "1423  ca7bc5ecfcfdb0c987c0210ad38a4c6dbfb9d521fe18c9...  DOT IN-HOUSE MILLING  \n",
       "1424  5e0dd125987aebde737382aa1ee0266d813a363fbaf8bf...  DOT IN-HOUSE MILLING  \n",
       "1425  a6ab79f067e08f87e0c9d157e8953c8bafc74d91e3b723...   DOT IN-HOUSE PAVING  "
      ]
     },
     "execution_count": 7,
     "metadata": {},
     "output_type": "execute_result"
    }
   ],
   "source": [
    "construction_df.tail()"
   ]
  },
  {
   "cell_type": "code",
   "execution_count": 44,
   "metadata": {},
   "outputs": [
    {
     "data": {
      "text/plain": [
       "(1426, 11)"
      ]
     },
     "execution_count": 44,
     "metadata": {},
     "output_type": "execute_result"
    }
   ],
   "source": [
    "construction_df.shape"
   ]
  },
  {
   "cell_type": "code",
   "execution_count": 42,
   "metadata": {},
   "outputs": [
    {
     "data": {
      "text/plain": [
       "0       S\n",
       "1       S\n",
       "2       S\n",
       "3       B\n",
       "4       B\n",
       "       ..\n",
       "1421    Q\n",
       "1422    Q\n",
       "1423    Q\n",
       "1424    Q\n",
       "1425    Q\n",
       "Name: BOROUGH_CODE, Length: 1426, dtype: object"
      ]
     },
     "execution_count": 42,
     "metadata": {},
     "output_type": "execute_result"
    }
   ],
   "source": [
    "construction_df.BOROUGH_CODE"
   ]
  },
  {
   "cell_type": "code",
   "execution_count": 45,
   "metadata": {},
   "outputs": [
    {
     "data": {
      "text/plain": [
       "the_geom           object\n",
       "SEGMENTID           int64\n",
       "OFT                 int64\n",
       "ONSTREETNAME       object\n",
       "FROMSTREETNAME     object\n",
       "TOSTREETNAME       object\n",
       "BOROUGH_CODE       object\n",
       "WORK_START_DATE    object\n",
       "WORK_END_DATE      object\n",
       "UNIQUEID           object\n",
       "PURPOSE            object\n",
       "dtype: object"
      ]
     },
     "execution_count": 45,
     "metadata": {},
     "output_type": "execute_result"
    }
   ],
   "source": [
    "construction_df.dtypes"
   ]
  },
  {
   "cell_type": "code",
   "execution_count": 8,
   "metadata": {},
   "outputs": [
    {
     "data": {
      "text/plain": [
       "Index(['the_geom', 'SEGMENTID', 'OFT', 'ONSTREETNAME', 'FROMSTREETNAME',\n",
       "       'TOSTREETNAME', 'BOROUGH_CODE', 'WORK_START_DATE', 'WORK_END_DATE',\n",
       "       'UNIQUEID', 'PURPOSE'],\n",
       "      dtype='object')"
      ]
     },
     "execution_count": 8,
     "metadata": {},
     "output_type": "execute_result"
    }
   ],
   "source": [
    "construction_df.columns"
   ]
  },
  {
   "cell_type": "code",
   "execution_count": 46,
   "metadata": {},
   "outputs": [
    {
     "name": "stdout",
     "output_type": "stream",
     "text": [
      "<class 'pandas.core.frame.DataFrame'>\n",
      "RangeIndex: 1426 entries, 0 to 1425\n",
      "Data columns (total 11 columns):\n",
      " #   Column           Non-Null Count  Dtype \n",
      "---  ------           --------------  ----- \n",
      " 0   the_geom         1426 non-null   object\n",
      " 1   SEGMENTID        1426 non-null   int64 \n",
      " 2   OFT              1426 non-null   int64 \n",
      " 3   ONSTREETNAME     1426 non-null   object\n",
      " 4   FROMSTREETNAME   1426 non-null   object\n",
      " 5   TOSTREETNAME     1426 non-null   object\n",
      " 6   BOROUGH_CODE     1426 non-null   object\n",
      " 7   WORK_START_DATE  1426 non-null   object\n",
      " 8   WORK_END_DATE    1426 non-null   object\n",
      " 9   UNIQUEID         1426 non-null   object\n",
      " 10  PURPOSE          1426 non-null   object\n",
      "dtypes: int64(2), object(9)\n",
      "memory usage: 122.7+ KB\n"
     ]
    }
   ],
   "source": [
    "construction_df.info()"
   ]
  },
  {
   "cell_type": "code",
   "execution_count": 47,
   "metadata": {},
   "outputs": [
    {
     "data": {
      "text/plain": [
       "0       False\n",
       "1       False\n",
       "2       False\n",
       "3       False\n",
       "4       False\n",
       "        ...  \n",
       "1421    False\n",
       "1422    False\n",
       "1423    False\n",
       "1424    False\n",
       "1425    False\n",
       "Length: 1426, dtype: bool"
      ]
     },
     "execution_count": 47,
     "metadata": {},
     "output_type": "execute_result"
    }
   ],
   "source": [
    "construction_df.WORK_END_DATE == construction_df.WORK_START_DATE"
   ]
  },
  {
   "cell_type": "code",
   "execution_count": 48,
   "metadata": {},
   "outputs": [
    {
     "name": "stdout",
     "output_type": "stream",
     "text": [
      "                                            the_geom  SEGMENTID  \\\n",
      "0  MULTILINESTRING ((-74.12448960061522 40.631134...       9813   \n",
      "1  MULTILINESTRING ((-74.19879341875411 40.522175...       1098   \n",
      "2  MULTILINESTRING ((-74.19879341875411 40.522175...       1098   \n",
      "3  MULTILINESTRING ((-73.95032596692067 40.657837...      28743   \n",
      "4  MULTILINESTRING ((-73.95032596692067 40.657837...      28743   \n",
      "\n",
      "                  OFT      ONSTREETNAME   FROMSTREETNAME     TOSTREETNAME  \\\n",
      "0  524570523900544658    CORNELL AVENUE       CLOVE ROAD    RAYMOND PLACE   \n",
      "1  570299525908547300  SINGLETON STREET         DEAD END   SEGUINE AVENUE   \n",
      "2  570299525908547300  SINGLETON STREET         DEAD END   SEGUINE AVENUE   \n",
      "3  348230364830367030  HAWTHORNE STREET  NEW YORK AVENUE  NOSTRAND AVENUE   \n",
      "4  348230364830367030  HAWTHORNE STREET  NEW YORK AVENUE  NOSTRAND AVENUE   \n",
      "\n",
      "  BOROUGH_CODE         WORK_START_DATE           WORK_END_DATE  \\\n",
      "0            S  02/26/2025 12:00:00 AM  03/28/2025 12:00:00 AM   \n",
      "1            S  12/26/2024 12:00:00 AM  03/26/2025 12:00:00 AM   \n",
      "2            S  12/26/2024 12:00:00 AM  03/25/2025 12:00:00 AM   \n",
      "3            B  02/24/2025 12:00:00 AM  03/22/2025 12:00:00 AM   \n",
      "4            B  02/24/2025 12:00:00 AM  03/22/2025 12:00:00 AM   \n",
      "\n",
      "                                            UNIQUEID  \\\n",
      "0  6820e945819f7e89ecf91829a95a6a3a8a0844b1621356...   \n",
      "1  c4a5d52564922dfb3cd4e3c1feeb585df232e1c9feaa6e...   \n",
      "2  f83d0277026f1d2b8c0617bc658e849360fc3f3c95168f...   \n",
      "3  8f45e12feccc75367e822dedc29d6d74c516ea0d2b2c37...   \n",
      "4  512cb0dc3683a39a55fb776fdb9786543acedaf1c0af80...   \n",
      "\n",
      "                               PURPOSE  \n",
      "0                           REPAIR GAS  \n",
      "1                INSTALLATION OF POLES  \n",
      "2                INSTALLATION OF POLES  \n",
      "3  OCCUPANCY OF SIDEWALK AS STIPULATED  \n",
      "4   OCCUPANCY OF ROADWAY AS STIPULATED  \n"
     ]
    }
   ],
   "source": [
    "print(construction_df.head(5))"
   ]
  },
  {
   "cell_type": "code",
   "execution_count": 50,
   "metadata": {},
   "outputs": [
    {
     "name": "stdout",
     "output_type": "stream",
     "text": [
      "       FROMSTREETNAME                             PURPOSE\n",
      "count            1426                                1426\n",
      "unique            308                                  46\n",
      "top              BEND  OCCUPANCY OF ROADWAY AS STIPULATED\n",
      "freq               77                                 333\n"
     ]
    }
   ],
   "source": [
    "print(construction_df[['FROMSTREETNAME', 'PURPOSE']].describe())"
   ]
  },
  {
   "cell_type": "code",
   "execution_count": 51,
   "metadata": {},
   "outputs": [
    {
     "name": "stdout",
     "output_type": "stream",
     "text": [
      "['S' 'B' 'M' 'Q' 'X']\n"
     ]
    }
   ],
   "source": [
    "print(construction_df['BOROUGH_CODE'].unique())"
   ]
  },
  {
   "cell_type": "code",
   "execution_count": 52,
   "metadata": {},
   "outputs": [
    {
     "name": "stdout",
     "output_type": "stream",
     "text": [
      "BOROUGH_CODE\n",
      "B    06/17/2025 12:00:00 AM\n",
      "M    05/27/2025 12:00:00 AM\n",
      "Q    06/04/2025 12:00:00 AM\n",
      "S    05/26/2025 12:00:00 AM\n",
      "X    05/31/2025 12:00:00 AM\n",
      "Name: WORK_END_DATE, dtype: object\n"
     ]
    }
   ],
   "source": [
    "grouped_products = construction_df.groupby(\"BOROUGH_CODE\")\n",
    "units_amt = grouped_products[\"WORK_END_DATE\"].max()\n",
    "print(units_amt)\n"
   ]
  },
  {
   "cell_type": "code",
   "execution_count": 54,
   "metadata": {},
   "outputs": [
    {
     "name": "stdout",
     "output_type": "stream",
     "text": [
      "WORK_START_DATE\n",
      "01/01/2025 12:00:00 AM    04/01/2025 12:00:00 AM\n",
      "01/02/2025 12:00:00 AM    04/01/2025 12:00:00 AM\n",
      "01/03/2025 12:00:00 AM    04/01/2025 12:00:00 AM\n",
      "01/06/2025 12:00:00 AM    03/08/2025 12:00:00 AM\n",
      "01/07/2025 12:00:00 AM    04/07/2025 12:00:00 AM\n",
      "                                   ...          \n",
      "12/23/2024 12:00:00 AM    03/23/2025 12:00:00 AM\n",
      "12/26/2024 12:00:00 AM    03/26/2025 12:00:00 AM\n",
      "12/28/2024 12:00:00 AM    03/28/2025 12:00:00 AM\n",
      "12/30/2024 12:00:00 AM    03/30/2025 12:00:00 AM\n",
      "12/31/2024 12:00:00 AM    03/10/2025 12:00:00 AM\n",
      "Name: WORK_END_DATE, Length: 77, dtype: object\n"
     ]
    }
   ],
   "source": [
    "grouped_products = construction_df.groupby(\"WORK_START_DATE\")\n",
    "units_amt = grouped_products[\"WORK_END_DATE\"].max()\n",
    "print(units_amt)"
   ]
  },
  {
   "cell_type": "code",
   "execution_count": null,
   "metadata": {},
   "outputs": [],
   "source": []
  }
 ],
 "metadata": {
  "kernelspec": {
   "display_name": "Python 3",
   "language": "python",
   "name": "python3"
  },
  "language_info": {
   "codemirror_mode": {
    "name": "ipython",
    "version": 3
   },
   "file_extension": ".py",
   "mimetype": "text/x-python",
   "name": "python",
   "nbconvert_exporter": "python",
   "pygments_lexer": "ipython3",
   "version": "3.10.8"
  }
 },
 "nbformat": 4,
 "nbformat_minor": 2
}
